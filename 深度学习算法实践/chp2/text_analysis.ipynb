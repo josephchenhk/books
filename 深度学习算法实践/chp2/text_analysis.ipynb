{
 "cells": [
  {
   "cell_type": "code",
   "execution_count": 1,
   "metadata": {
    "collapsed": true
   },
   "outputs": [],
   "source": [
    "#coding=utf8\n",
    "import jieba"
   ]
  },
  {
   "cell_type": "code",
   "execution_count": 6,
   "metadata": {
    "collapsed": false
   },
   "outputs": [],
   "source": [
    "title_words = jieba.lcut(u'10.1元购家电！iPhone6s-Plus 仅 4488，海尔热水器 699 ~ 10亿优惠券狂撒，国庆福利快接着->')"
   ]
  },
  {
   "cell_type": "code",
   "execution_count": 7,
   "metadata": {
    "collapsed": false
   },
   "outputs": [
    {
     "name": "stdout",
     "output_type": "stream",
     "text": [
      "10.1\n",
      "元购\n",
      "家电\n",
      "！\n",
      "iPhone6s\n",
      "-\n",
      "Plus\n",
      " \n",
      "仅\n",
      " \n",
      "4488\n",
      "，\n",
      "海尔\n",
      "热水器\n",
      " \n",
      "699\n",
      " \n",
      "~\n",
      " \n",
      "10\n",
      "亿\n",
      "优惠券\n",
      "狂撒\n",
      "，\n",
      "国庆\n",
      "福利\n",
      "快\n",
      "接着\n",
      "-\n",
      ">\n"
     ]
    }
   ],
   "source": [
    "for x in title_words:\n",
    "    #print(x.encode('utf8'))\n",
    "    print(x)"
   ]
  },
  {
   "cell_type": "code",
   "execution_count": null,
   "metadata": {
    "collapsed": true
   },
   "outputs": [],
   "source": []
  }
 ],
 "metadata": {
  "kernelspec": {
   "display_name": "Python 3",
   "language": "python",
   "name": "python3"
  },
  "language_info": {
   "codemirror_mode": {
    "name": "ipython",
    "version": 3
   },
   "file_extension": ".py",
   "mimetype": "text/x-python",
   "name": "python",
   "nbconvert_exporter": "python",
   "pygments_lexer": "ipython3",
   "version": "3.6.0"
  }
 },
 "nbformat": 4,
 "nbformat_minor": 2
}
